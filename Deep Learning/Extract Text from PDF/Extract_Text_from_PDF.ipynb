{
  "nbformat": 4,
  "nbformat_minor": 0,
  "metadata": {
    "colab": {
      "provenance": []
    },
    "kernelspec": {
      "name": "python3",
      "display_name": "Python 3"
    },
    "language_info": {
      "name": "python"
    }
  },
  "cells": [
    {
      "cell_type": "markdown",
      "source": [
        "# Proje: Extract Text from PDF\n",
        "\n",
        "Python kullanarak PDF dosyalarından nasıl metin çıkarabileceğinizi anlatacağız. PDF'den metin çıkarmak kolay bir iş değildir, burada yapılacak çok şey vardır. Ancak biraz yardım için, pip komutu kullanılarak kolayca kurulabilen pdf2image olarak bilinen bir Python paketi kullanacağız."
      ],
      "metadata": {
        "id": "s3v09McpZWue"
      }
    },
    {
      "cell_type": "code",
      "source": [
        " #pip install pdf2image"
      ],
      "metadata": {
        "id": "xwYuJUgeZXd6"
      },
      "execution_count": 10,
      "outputs": []
    },
    {
      "cell_type": "markdown",
      "source": [
        "PDF dosyasından metin çıkarırken karşılaştığımız en büyük zorluk, PDF dosyalarının farklı dosya formatlarında gelmesidir. Bu nedenle öncelikle bir PDF dosyasının her formatını istediğimiz formata dönüştürebileceğimiz bir fonksiyon hazırlamamız gerekir."
      ],
      "metadata": {
        "id": "8JfyWV27aCMv"
      }
    },
    {
      "cell_type": "code",
      "source": [
        "!apt-get install poppler-utils # Install poppler-utils, which contains pdfinfo\n",
        "!pip install pdf2image # Make sure pdf2image is installed\n",
        "!apt-get install tesseract-ocr\n",
        "!pip install pytesseract\n",
        "!sudo apt-get install tesseract-ocr-tur"
      ],
      "metadata": {
        "colab": {
          "base_uri": "https://localhost:8080/"
        },
        "id": "GA8JNechcUZA",
        "outputId": "ae11a836-2418-409e-a955-cad5ef8d3229"
      },
      "execution_count": 11,
      "outputs": [
        {
          "output_type": "stream",
          "name": "stdout",
          "text": [
            "Reading package lists... Done\n",
            "Building dependency tree... Done\n",
            "Reading state information... Done\n",
            "poppler-utils is already the newest version (22.02.0-2ubuntu0.5).\n",
            "0 upgraded, 0 newly installed, 0 to remove and 49 not upgraded.\n",
            "Requirement already satisfied: pdf2image in /usr/local/lib/python3.10/dist-packages (1.17.0)\n",
            "Requirement already satisfied: pillow in /usr/local/lib/python3.10/dist-packages (from pdf2image) (10.4.0)\n",
            "Reading package lists... Done\n",
            "Building dependency tree... Done\n",
            "Reading state information... Done\n",
            "tesseract-ocr is already the newest version (4.1.1-2.1build1).\n",
            "0 upgraded, 0 newly installed, 0 to remove and 49 not upgraded.\n",
            "Requirement already satisfied: pytesseract in /usr/local/lib/python3.10/dist-packages (0.3.13)\n",
            "Requirement already satisfied: packaging>=21.3 in /usr/local/lib/python3.10/dist-packages (from pytesseract) (24.1)\n",
            "Requirement already satisfied: Pillow>=8.0.0 in /usr/local/lib/python3.10/dist-packages (from pytesseract) (10.4.0)\n",
            "Reading package lists... Done\n",
            "Building dependency tree... Done\n",
            "Reading state information... Done\n",
            "tesseract-ocr-tur is already the newest version (1:4.00~git30-7274cfa-1.1).\n",
            "0 upgraded, 0 newly installed, 0 to remove and 49 not upgraded.\n"
          ]
        }
      ]
    },
    {
      "cell_type": "code",
      "source": [
        "#pip install pytesseract"
      ],
      "metadata": {
        "id": "YuCZfz8baMLH"
      },
      "execution_count": 12,
      "outputs": []
    },
    {
      "cell_type": "code",
      "source": [
        "import pdf2image\n",
        "import os, sys\n",
        "try:\n",
        "    from PIL import Image\n",
        "except ImportError:\n",
        "    import Image\n",
        "import pytesseract"
      ],
      "metadata": {
        "id": "1YbNKqK5ZyIB"
      },
      "execution_count": 13,
      "outputs": []
    },
    {
      "cell_type": "markdown",
      "source": [
        "Şimdi, pdf çıkarma fonksiyonunda klasördeki belgelerinizi saymak için daha sonra kullanılacak olan belgelerinizin yolunu ve sayacı başlatmamız gerekiyor"
      ],
      "metadata": {
        "id": "CPKiQ6zwac4r"
      }
    },
    {
      "cell_type": "code",
      "source": [
        "PATH = '/content/'\n",
        "\n",
        "#initialize the counter that you will use later in your pdf extraction function\n",
        "i = 1"
      ],
      "metadata": {
        "id": "5zYX38egadaT"
      },
      "execution_count": 14,
      "outputs": []
    },
    {
      "cell_type": "markdown",
      "source": [
        "Şimdi, pdf dosyalarımızdan bazı gereksiz dosyaları silmemiz gerekiyor, bunun için yeni bir fonksiyon oluşturacağız"
      ],
      "metadata": {
        "id": "H7rok-s8ao15"
      }
    },
    {
      "cell_type": "code",
      "source": [
        "def delete_ppms():\n",
        "  for file in os.listdir(PATH):\n",
        "    if '.ppm' in file or '.DS_Store' in file:\n",
        "      try:\n",
        "          os.remove(PATH + file)\n",
        "      except FileNotFoundError:\n",
        "          pass"
      ],
      "metadata": {
        "id": "BVyGazIgaqp7"
      },
      "execution_count": 15,
      "outputs": []
    },
    {
      "cell_type": "markdown",
      "source": [
        "Şimdi pdf dosyalarını türlerine göre sıralamamız gerekiyor. Bunu pdf dosyaları için bir ve Docx dosyaları için bir liste oluşturarak başlatacağım çünkü bu iki tür en çok kullanılan pdf dosya türleridir"
      ],
      "metadata": {
        "id": "yBjj6ffla1mN"
      }
    },
    {
      "cell_type": "code",
      "source": [
        "pdf_files = []\n",
        "docx_files = []\n",
        "\n",
        "# append document names into the lists by their extension type\n",
        "for f in os.listdir(PATH):\n",
        "  full_name = os.path.join(PATH, f)\n",
        "  if os.path.isfile(full_name):\n",
        "    name = os.path.basename(f)\n",
        "    filename, ext = os.path.splitext(name)\n",
        "    if ext == '.pdf':\n",
        "      pdf_files.append(name)\n",
        "    elif ext == ('.docx'):\n",
        "      docx_files.append(name)"
      ],
      "metadata": {
        "id": "xVc-ivBqa2JJ"
      },
      "execution_count": 16,
      "outputs": []
    },
    {
      "cell_type": "markdown",
      "source": [
        "Artık sonunda PDF dosyalarından metin çıkarabiliriz. İşte pdf_extract fonksiyonu. İlk olarak, metnin çıkarıldığı her dosyanın adını yazdırır. Belgenin boyutuna bağlı olarak, metnin çıkarılması biraz zaman alabilir"
      ],
      "metadata": {
        "id": "uQQjcZmwbQzG"
      }
    },
    {
      "cell_type": "code",
      "source": [
        "import os\n",
        "import pdf2image\n",
        "from PIL import Image\n",
        "import pytesseract\n",
        "\n",
        "# Specify the path to the tesseract executable\n",
        "pytesseract.pytesseract.tesseract_cmd = r'/usr/bin/tesseract'\n",
        "\n",
        "def pdf_extract(file, i):\n",
        "  print(\"extracting from file:\", file)\n",
        "  delete_ppms()  # Assuming delete_ppms is defined elsewhere\n",
        "  # Add poppler_path argument to convert_from_path\n",
        "  images = pdf2image.convert_from_path(PATH + file, output_folder=PATH, poppler_path=\"/usr/bin\")  # Assuming PATH is defined elsewhere\n",
        "  j = 0\n",
        "  for file in sorted (os.listdir(PATH)):\n",
        "      if '.ppm' in file and 'image' not in file:\n",
        "        os.rename(PATH + file, PATH + 'image' + str(i) + '-' + str(j) + '.ppm')\n",
        "        j += 1\n",
        "  j = 0\n",
        "  f = open(PATH +'result{}.txt'.format(i), 'w')\n",
        "  files = [f for f in os.listdir(PATH) if '.ppm' in f]\n",
        "\n",
        "  for file in sorted(files, key=lambda x: int(x[x.index('-') + 1: x.index('.')])):\n",
        "      # Specify Turkish language using 'tur'\n",
        "      temp = pytesseract.image_to_string(Image.open(PATH + file), lang='tur')\n",
        "      f.write(temp)\n",
        "  f.close()"
      ],
      "metadata": {
        "id": "7ZhfltGsbS12"
      },
      "execution_count": 17,
      "outputs": []
    },
    {
      "cell_type": "markdown",
      "source": [
        "Şimdi, Python kullanarak tüm PDF dosyalarından veri çıkarmak için fonksiyonumuzu kullanabiliriz"
      ],
      "metadata": {
        "id": "QCweUMwobkvp"
      }
    },
    {
      "cell_type": "code",
      "source": [
        "for i in range(len(pdf_files)):\n",
        "  pdf_file = pdf_files[i]\n",
        "  pdf_extract(pdf_file, i)"
      ],
      "metadata": {
        "colab": {
          "base_uri": "https://localhost:8080/"
        },
        "id": "TvBILyy4cDcy",
        "outputId": "98a2a8a3-10f3-43f1-8357-2b1749a79ff8"
      },
      "execution_count": 18,
      "outputs": [
        {
          "metadata": {
            "tags": null
          },
          "name": "stdout",
          "output_type": "stream",
          "text": [
            "extracting from file: 35144133048_KayitYenilemeDokum_ders.pdf\n"
          ]
        }
      ]
    },
    {
      "cell_type": "markdown",
      "source": [
        "Şimdi fonksiyonu çalıştırdıktan sonra dizine giderseniz result1.txt adında PDF dosyasından çıkarılan tüm metinleri içeren bir metin dosyası göreceksiniz."
      ],
      "metadata": {
        "id": "cOpbWiPKcCd0"
      }
    }
  ]
}