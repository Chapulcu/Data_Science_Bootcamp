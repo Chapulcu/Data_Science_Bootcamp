{
 "cells": [
  {
   "cell_type": "markdown",
   "metadata": {},
   "source": [
    "# Proje: Cinsiyet Tespiti (Gender Detection)"
   ]
  },
  {
   "cell_type": "code",
   "execution_count": 5,
   "metadata": {},
   "outputs": [],
   "source": [
    "import cv2\n",
    "import cvlib as cv\n",
    "import sys\n",
    "import numpy as np\n",
    "from numpy.lib.type_check import imag\n",
    "image = cv2.imread(\"ata.jpg\")"
   ]
  },
  {
   "cell_type": "code",
   "execution_count": null,
   "metadata": {},
   "outputs": [
    {
     "name": "stdout",
     "output_type": "stream",
     "text": [
      "[INFO] Initializing gender detection model ..\n",
      "Error detecting gender: OpenCV(4.10.0) /Users/xperience/GHA-Actions-OpenCV/_work/opencv-python/opencv-python/opencv/modules/dnn/src/caffe/caffe_io.cpp:1162: error: (-2:Unspecified error) FAILED: ReadProtoFromTextFile(param_file, param). Failed to parse NetParameter file: /Users/talipakhan/.cvlib/pre-trained/gender_deploy.prototxt in function 'ReadNetParamsFromTextFileOrDie'\n",
      "\n"
     ]
    },
    {
     "name": "stderr",
     "output_type": "stream",
     "text": [
      "[libprotobuf ERROR /Users/xperience/GHA-Actions-OpenCV/_work/opencv-python/opencv-python/opencv/3rdparty/protobuf/src/google/protobuf/text_format.cc:335] Error parsing text-format opencv_caffe.NetParameter: 1:1: Expected identifier, got: <\n",
      "2024-10-06 19:05:34.831 Python[81115:1734456] +[IMKClient subclass]: chose IMKClient_Legacy\n",
      "2024-10-06 19:05:34.831 Python[81115:1734456] +[IMKInputSession subclass]: chose IMKInputSession_Legacy\n"
     ]
    }
   ],
   "source": [
    "faces, confidence = cv.detect_face(image)\n",
    "if faces is not None:\n",
    "    face = faces\n",
    "else:\n",
    "    face = []\n",
    "padding = 20\n",
    "\n",
    "for i in face:\n",
    "    (x, y) = max(0, i[0]-padding), max(0, i[1]-padding)\n",
    "    (x2, y2) = min(image.shape[1]-1, i[2]+padding), min(image.shape[0]-1,i[3]+padding)\n",
    "    cv2.rectangle(image, (x, y), (x2, y2), (0, 255, 0), 2)\n",
    "    crop = np.copy(image[y:y2, x:x2])\n",
    "    \n",
    "    import ssl\n",
    "    ssl._create_default_https_context = ssl._create_unverified_context\n",
    "    \n",
    "    try:\n",
    "        (label, confidence) = cv.detect_gender(crop)\n",
    "        idx = np.argmax(confidence)\n",
    "        label = label[idx]\n",
    "        label = \"{}: {:.2f}%\".format(label, confidence[idx] * 100)\n",
    "        Y = y - 10 if y - 10 > 10 else y + 10\n",
    "        cv2.putText(image, label, (x, Y), cv2.FONT_HERSHEY_SIMPLEX, 0.7, (0, 255, 0), 2)\n",
    "    except Exception as e:\n",
    "        print(f\"Error detecting gender: {str(e)}\")\n",
    "        continue\n",
    "\n",
    "cv2.imshow(\"Gender Detection\", image)\n",
    "cv2.waitKey()\n",
    "cv2.destroyAllWindows()"
   ]
  },
  {
   "cell_type": "markdown",
   "metadata": {},
   "source": [
    "# Sonuç: \n",
    "Bu, bir giriş görüntüsünü veya gerçek zamanlı bir web kamerasını kullanarak bir insanın cinsiyetini kolayca nasıl tespit edebileceğimizi gösteriyor. Bu görev, bilgisayarlı görme uygulamaları oluşturmak isteyenler için harika bir projedir."
   ]
  },
  {
   "cell_type": "code",
   "execution_count": null,
   "metadata": {},
   "outputs": [],
   "source": []
  }
 ],
 "metadata": {
  "kernelspec": {
   "display_name": "Python 3",
   "language": "python",
   "name": "python3"
  },
  "language_info": {
   "codemirror_mode": {
    "name": "ipython",
    "version": 3
   },
   "file_extension": ".py",
   "mimetype": "text/x-python",
   "name": "python",
   "nbconvert_exporter": "python",
   "pygments_lexer": "ipython3",
   "version": "3.11.5"
  }
 },
 "nbformat": 4,
 "nbformat_minor": 2
}
