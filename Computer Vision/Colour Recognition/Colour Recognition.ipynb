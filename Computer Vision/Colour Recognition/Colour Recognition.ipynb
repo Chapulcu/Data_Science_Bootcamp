{
 "cells": [
  {
   "cell_type": "markdown",
   "metadata": {},
   "source": [
    "# Proje: Colour Recognition\n"
   ]
  },
  {
   "cell_type": "markdown",
   "metadata": {},
   "source": []
  },
  {
   "cell_type": "code",
   "execution_count": 15,
   "metadata": {},
   "outputs": [],
   "source": [
    "import numpy as np\n",
    "import pandas as pd\n",
    "import cv2"
   ]
  },
  {
   "cell_type": "markdown",
   "metadata": {},
   "source": [
    "Şimdi bir sonraki adıma geçebiliriz. Burada Python ile renk tanıma görevimizi test etmek için kullanmak istediğimiz görseli tanımlayacağız."
   ]
  },
  {
   "cell_type": "code",
   "execution_count": 16,
   "metadata": {},
   "outputs": [
    {
     "name": "stderr",
     "output_type": "stream",
     "text": [
      "[ WARN:0@46.002] global loadsave.cpp:241 findDecoder imread_('colour.jpg'): can't open/read file: check file path/integrity\n"
     ]
    }
   ],
   "source": [
    "test_image = cv2.imread(\"colour.jpg\")"
   ]
  },
  {
   "cell_type": "markdown",
   "metadata": {},
   "source": [
    "## Renk Tanıma"
   ]
  },
  {
   "cell_type": "markdown",
   "metadata": {},
   "source": [
    "Öncelikle, modelimizi renkleri tanımlayacak şekilde eğitmemiz gerekir. Bunu yapmak için, renk adlarını ve bu renklere karşılık gelen değerleri içeren verilere ihtiyacımız var."
   ]
  },
  {
   "cell_type": "code",
   "execution_count": 17,
   "metadata": {},
   "outputs": [],
   "source": [
    "index=[\"color\", \"color_name\", \"hex\", \"R\", \"G\", \"B\"]\n",
    "csv = pd.read_csv('colors.csv', names=index, header=None)"
   ]
  },
  {
   "cell_type": "markdown",
   "metadata": {},
   "source": [
    "Şimdi bir sonraki adımımızda iki fonksiyon tanımlayacağız. Programımızın düzgün çalışması için bazı global değişkenlere ihtiyacımız var."
   ]
  },
  {
   "cell_type": "code",
   "execution_count": 18,
   "metadata": {},
   "outputs": [],
   "source": [
    "clicked = False\n",
    "r = g = b = xpos = ypos = 0"
   ]
  },
  {
   "cell_type": "markdown",
   "metadata": {},
   "source": [
    "## Renk Tanıma Fonksiyonu"
   ]
  },
  {
   "cell_type": "markdown",
   "metadata": {},
   "source": [
    "Aşağıdaki fonksiyon, resmin bir alanına çift tıkladığınızda çağrılacaktır. Rengin adını ve o rengin RGB değerlerini döndürecektir."
   ]
  },
  {
   "cell_type": "code",
   "execution_count": 19,
   "metadata": {},
   "outputs": [],
   "source": [
    "def recognize_color(R,G,B):\n",
    "    minimum = 10000\n",
    "    for i in range(len(csv)):\n",
    "        d = abs(R- int(csv.loc[i,\"R\"])) + abs(G- int(csv.loc[i,\"G\"]))+ abs(B- int(csv.loc[i,\"B\"]))\n",
    "        if d <= minimum:\n",
    "            minimum = d\n",
    "            cname = csv.loc[i,\"color_name\"]\n",
    "    return cname"
   ]
  },
  {
   "cell_type": "markdown",
   "metadata": {},
   "source": [
    "## Fare Tıklama İşlevi"
   ]
  },
  {
   "cell_type": "markdown",
   "metadata": {},
   "source": [
    "Aşağıdaki fonksiyon, çift tıklama sürecinde yardımcı olacak programımızın bir parçası olan yardımcı bir fonksiyondur."
   ]
  },
  {
   "cell_type": "code",
   "execution_count": 20,
   "metadata": {},
   "outputs": [],
   "source": [
    "def mouse_click(event, x, y, flags, param):\n",
    "    if event == cv2.EVENT_LBUTTONDBLCLK:\n",
    "        global b,g,r,xpos,ypos, clicked\n",
    "        clicked = True\n",
    "        xpos = x\n",
    "        ypos = y\n",
    "        b,g,r = img[y,x]\n",
    "        b = int(b)\n",
    "        g = int(g)\n",
    "        r = int(r)"
   ]
  },
  {
   "cell_type": "markdown",
   "metadata": {},
   "source": [
    "## Bilgisayar Görüntüsüyle İşleme"
   ]
  },
  {
   "cell_type": "markdown",
   "metadata": {},
   "source": [
    "Bu adımda, OpenCV yöntemlerini kullanarak görüntüyü yeni bir pencerede açacağız. Ve bu pencerede, daha önce tanımladığımız fonksiyonları kullanacağız.Uygulama o kadar basit ki, resmin belirli bir alanına çift tıkladığınızda rengin adını ve renk değerlerini döndürüyor."
   ]
  },
  {
   "cell_type": "code",
   "execution_count": 21,
   "metadata": {},
   "outputs": [
    {
     "name": "stderr",
     "output_type": "stream",
     "text": [
      "2024-10-24 08:43:27.855 python[64532:14615081] +[IMKClient subclass]: chose IMKClient_Legacy\n",
      "2024-10-24 08:43:27.855 python[64532:14615081] +[IMKInputSession subclass]: chose IMKInputSession_Legacy\n"
     ]
    },
    {
     "ename": "",
     "evalue": "",
     "output_type": "error",
     "traceback": [
      "\u001b[1;31mThe Kernel crashed while executing code in the current cell or a previous cell. \n",
      "\u001b[1;31mPlease review the code in the cell(s) to identify a possible cause of the failure. \n",
      "\u001b[1;31mClick <a href='https://aka.ms/vscodeJupyterKernelCrash'>here</a> for more info. \n",
      "\u001b[1;31mView Jupyter <a href='command:jupyter.viewOutput'>log</a> for further details."
     ]
    }
   ],
   "source": [
    "cv2.namedWindow('Color Recognition App')\n",
    "cv2.setMouseCallback('Color Recognition App', mouse_click)\n",
    "cap = cv2.VideoCapture(2)\n",
    "\n",
    "while True:\n",
    "    ret, img = cap.read()\n",
    "    if not ret:\n",
    "        print(\"Failed to grab frame\")\n",
    "        break\n",
    "    \n",
    "    cv2.imshow(\"Color Recognition App\", img)\n",
    "    \n",
    "    if clicked:\n",
    "        #cv2.rectangle(image, startpoint, endpoint, color, thickness)-1 fills entire rectangle \n",
    "        cv2.rectangle(img,(20,20), (750,60), (b,g,r), -1)\n",
    "        #Görüntülenecek metin dizesini oluşturma (Renk adı ve RGB değerleri)\n",
    "        text = recognize_color(r,g,b) + ' R='+ str(r) +  ' G='+ str(g) +  ' B='+ str(b)\n",
    "        \n",
    "        #cv2.putText(img,text,start,font(0-7),fontScale,color,thickness,lineType )\n",
    "        cv2.putText(img, text,(50,50),2,0.8,(255,255,255),2,cv2.LINE_AA)\n",
    "        #Çok açık renkler için metni siyah renkte göstereceğiz        if(r+g+b>=600):\n",
    "        cv2.putText(img, text,(50,50),2,0.8,(0,0,0),2,cv2.LINE_AA)\n",
    "            \n",
    "        clicked=False\n",
    "    \n",
    "    #Break the loop when user hits 'esc' key    \n",
    "    if cv2.waitKey(20) & 0xFF == 27:\n",
    "        break\n",
    "\n",
    "cap.release()\n",
    "cv2.destroyAllWindows()\n",
    "\n",
    "cap.release()\n",
    "cv2.destroyAllWindows()\n",
    "cv2.destroyAllWindows()"
   ]
  },
  {
   "cell_type": "markdown",
   "metadata": {},
   "source": [
    "Bilgisayarlı Görü'yü gerçek dünyadaki görevlere nasıl uygulayabileceğiniz konusunda iyi bir fikir edinebilirsiniz."
   ]
  }
 ],
 "metadata": {
  "kernelspec": {
   "display_name": "base",
   "language": "python",
   "name": "python3"
  },
  "language_info": {
   "codemirror_mode": {
    "name": "ipython",
    "version": 3
   },
   "file_extension": ".py",
   "mimetype": "text/x-python",
   "name": "python",
   "nbconvert_exporter": "python",
   "pygments_lexer": "ipython3",
   "version": "3.11.8"
  }
 },
 "nbformat": 4,
 "nbformat_minor": 2
}
